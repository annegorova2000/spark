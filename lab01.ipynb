{
 "cells": [
  {
   "cell_type": "code",
   "execution_count": 243,
   "metadata": {},
   "outputs": [
    {
     "name": "stdout",
     "output_type": "stream",
     "text": [
      "Welcome to\n",
      "      ____              __\n",
      "     / __/__  ___ _____/ /__\n",
      "    _\\ \\/ _ \\/ _ `/ __/  '_/\n",
      "   /__ / .__/\\_,_/_/ /_/\\_\\   version 2.4.7\n",
      "      /_/\n",
      "\n",
      "Using Python version 3.6.5 (default, Apr 29 2018 16:14:56)\n",
      "SparkSession available as 'spark'.\n"
     ]
    }
   ],
   "source": [
    "import os\n",
    "import sys\n",
    "os.environ[\"PYSPARK_PYTHON\"]='/opt/anaconda/envs/bd9/bin/python'\n",
    "os.environ[\"SPARK_HOME\"]='/usr/hdp/current/spark2-client'\n",
    "os.environ[\"PYSPARK_SUBMIT_ARGS\"]='--num-executors 2 pyspark-shell'\n",
    "\n",
    "spark_home = os.environ.get('SPARK_HOME', None)\n",
    "if not spark_home:\n",
    "    raise ValueError('SPARK_HOME environment variable is not set')\n",
    "\n",
    "sys.path.insert(0, os.path.join(spark_home, 'python'))\n",
    "sys.path.insert(0, os.path.join(spark_home, 'python/lib/py4j-0.10.7-src.zip'))\n",
    "exec(open(os.path.join(spark_home, 'python/pyspark/shell.py')).read())"
   ]
  },
  {
   "cell_type": "code",
   "execution_count": 244,
   "metadata": {},
   "outputs": [],
   "source": [
    "from pyspark import SparkConf\n",
    "from pyspark.sql import SparkSession\n",
    "from pyspark.sql import functions as f\n",
    "from pyspark.sql.types import *\n",
    "from pyspark import Row\n",
    "import json\n",
    "\n",
    "conf = SparkConf()\n",
    "\n",
    "spark = (SparkSession\n",
    "         .builder\n",
    "         .config(conf=conf)\n",
    "         .appName(\"test\")\n",
    "         .getOrCreate())"
   ]
  },
  {
   "cell_type": "code",
   "execution_count": 242,
   "metadata": {},
   "outputs": [],
   "source": [
    "spark.stop()"
   ]
  },
  {
   "cell_type": "code",
   "execution_count": 245,
   "metadata": {},
   "outputs": [
    {
     "name": "stdout",
     "output_type": "stream",
     "text": [
      "-rw-r--r--   3 hdfs hdfs     236344 2022-01-06 18:46 /labs/laba01/ml-100k/u.item\r\n"
     ]
    }
   ],
   "source": [
    "!hdfs dfs -ls /labs/laba01/ml-100k/u.item"
   ]
  },
  {
   "cell_type": "code",
   "execution_count": 240,
   "metadata": {},
   "outputs": [
    {
     "name": "stdout",
     "output_type": "stream",
     "text": [
      "/data/home/anna.egorova\r\n"
     ]
    }
   ],
   "source": [
    "!pwd"
   ]
  },
  {
   "cell_type": "code",
   "execution_count": 246,
   "metadata": {},
   "outputs": [],
   "source": [
    "rdd = sc.textFile('/labs/laba01/ml-100k/u.data').map(lambda x: x.split('\\t'))"
   ]
  },
  {
   "cell_type": "code",
   "execution_count": 247,
   "metadata": {},
   "outputs": [
    {
     "data": {
      "text/plain": [
       "[['196', '242', '3', '881250949'],\n",
       " ['186', '302', '3', '891717742'],\n",
       " ['22', '377', '1', '878887116'],\n",
       " ['244', '51', '2', '880606923'],\n",
       " ['166', '346', '1', '886397596']]"
      ]
     },
     "execution_count": 247,
     "metadata": {},
     "output_type": "execute_result"
    }
   ],
   "source": [
    "rdd.take(5)"
   ]
  },
  {
   "cell_type": "code",
   "execution_count": 248,
   "metadata": {},
   "outputs": [],
   "source": [
    "rdd_22 = rdd.filter(lambda x: x[1] == \"302\")"
   ]
  },
  {
   "cell_type": "code",
   "execution_count": 249,
   "metadata": {},
   "outputs": [
    {
     "data": {
      "text/plain": [
       "[['186', '302', '3', '891717742'],\n",
       " ['191', '302', '4', '891560253'],\n",
       " ['49', '302', '4', '888065432'],\n",
       " ['54', '302', '4', '880928519'],\n",
       " ['62', '302', '3', '879371909'],\n",
       " ['206', '302', '5', '888180227'],\n",
       " ['197', '302', '3', '891409070']]"
      ]
     },
     "execution_count": 249,
     "metadata": {},
     "output_type": "execute_result"
    }
   ],
   "source": [
    "rdd_22.take(7)"
   ]
  },
  {
   "cell_type": "code",
   "execution_count": 99,
   "metadata": {},
   "outputs": [
    {
     "data": {
      "text/plain": [
       "[('1', <pyspark.resultiterable.ResultIterable at 0x7fd2d70e6128>),\n",
       " ('4', <pyspark.resultiterable.ResultIterable at 0x7fd2d70e6518>),\n",
       " ('5', <pyspark.resultiterable.ResultIterable at 0x7fd2d70dfd68>),\n",
       " ('3', <pyspark.resultiterable.ResultIterable at 0x7fd2d70e6080>),\n",
       " ('2', <pyspark.resultiterable.ResultIterable at 0x7fd2d7073c50>)]"
      ]
     },
     "execution_count": 99,
     "metadata": {},
     "output_type": "execute_result"
    }
   ],
   "source": [
    "rdd_22.groupBy(lambda x: x[2]).take(5)"
   ]
  },
  {
   "cell_type": "code",
   "execution_count": 179,
   "metadata": {},
   "outputs": [
    {
     "data": {
      "text/plain": [
       "PythonRDD[547] at RDD at PythonRDD.scala:53"
      ]
     },
     "execution_count": 179,
     "metadata": {},
     "output_type": "execute_result"
    }
   ],
   "source": [
    "rdd_22.map(lambda x: (x[0], x[1], x[2], x[3])).reduceByKey(lambda a,b:a+b)"
   ]
  },
  {
   "cell_type": "code",
   "execution_count": 178,
   "metadata": {},
   "outputs": [
    {
     "data": {
      "text/plain": [
       "PythonRDD[542] at RDD at PythonRDD.scala:53"
      ]
     },
     "execution_count": 178,
     "metadata": {},
     "output_type": "execute_result"
    }
   ],
   "source": [
    "rdd_22.reduceByKey(lambda a,b:a+b)"
   ]
  },
  {
   "cell_type": "code",
   "execution_count": null,
   "metadata": {},
   "outputs": [],
   "source": []
  },
  {
   "cell_type": "code",
   "execution_count": 250,
   "metadata": {},
   "outputs": [
    {
     "name": "stdout",
     "output_type": "stream",
     "text": [
      "+---+-----+\n",
      "|_3 |count|\n",
      "+---+-----+\n",
      "|1  |2    |\n",
      "|2  |10   |\n",
      "|3  |46   |\n",
      "|4  |119  |\n",
      "|5  |120  |\n",
      "+---+-----+\n",
      "\n"
     ]
    }
   ],
   "source": [
    "df = rdd_22.toDF()\n",
    "# df.show(10, 0)\n",
    "df = df.groupBy(\"_3\").count().orderBy(\"_3\")\n",
    "df.show(10, 0)"
   ]
  },
  {
   "cell_type": "code",
   "execution_count": 251,
   "metadata": {},
   "outputs": [
    {
     "name": "stdout",
     "output_type": "stream",
     "text": [
      "hist_film: [2, 10, 46, 119, 120]\n"
     ]
    }
   ],
   "source": [
    "list_df = df.select(\"count\").rdd.flatMap(lambda x: x).collect()\n",
    "print(f\"hist_film: {list_df}\")"
   ]
  },
  {
   "cell_type": "code",
   "execution_count": 252,
   "metadata": {},
   "outputs": [
    {
     "name": "stdout",
     "output_type": "stream",
     "text": [
      "+---+-----+\n",
      "|_3 |count|\n",
      "+---+-----+\n",
      "|1  |6110 |\n",
      "|2  |11370|\n",
      "|3  |27145|\n",
      "|4  |34174|\n",
      "|5  |21201|\n",
      "+---+-----+\n",
      "\n"
     ]
    }
   ],
   "source": [
    "df_all = rdd.toDF()\n",
    "# df.show(10, 0)\n",
    "df_all = df_all.groupBy(\"_3\").count().orderBy(\"_3\")\n",
    "df_all.show(10, 0)"
   ]
  },
  {
   "cell_type": "code",
   "execution_count": 253,
   "metadata": {},
   "outputs": [
    {
     "name": "stdout",
     "output_type": "stream",
     "text": [
      "hist_film: [6110, 11370, 27145, 34174, 21201]\n"
     ]
    }
   ],
   "source": [
    "list_df_all = df_all.select(\"count\").rdd.flatMap(lambda x: x).collect()\n",
    "print(f\"hist_film: {list_df_all}\")"
   ]
  },
  {
   "cell_type": "code",
   "execution_count": null,
   "metadata": {},
   "outputs": [],
   "source": [
    "{\n",
    "    \"hist_film\": [  \n",
    "      5,\n",
    "      14,\n",
    "      46,\n",
    "      98,\n",
    "      134\n",
    "   ],\n",
    "   \"hist_all\": [  \n",
    "      6110,\n",
    "      11370,\n",
    "      27145,\n",
    "      34174,\n",
    "      21201\n",
    "   ]\n",
    "}"
   ]
  },
  {
   "cell_type": "code",
   "execution_count": null,
   "metadata": {},
   "outputs": [],
   "source": []
  }
 ],
 "metadata": {
  "kernelspec": {
   "display_name": "Python 3",
   "language": "python",
   "name": "python3"
  },
  "language_info": {
   "codemirror_mode": {
    "name": "ipython",
    "version": 3
   },
   "file_extension": ".py",
   "mimetype": "text/x-python",
   "name": "python",
   "nbconvert_exporter": "python",
   "pygments_lexer": "ipython3",
   "version": "3.6.5"
  }
 },
 "nbformat": 4,
 "nbformat_minor": 2
}
